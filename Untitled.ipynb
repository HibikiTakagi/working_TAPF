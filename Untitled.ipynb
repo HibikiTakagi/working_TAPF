{
 "cells": [
  {
   "cell_type": "code",
   "execution_count": 1,
   "id": "1569983f-06c2-4aa9-bca1-6ad061ec3a4d",
   "metadata": {},
   "outputs": [],
   "source": [
    "import glob\n",
    "\n",
    "import cv2\n",
    "\n",
    "import re\n",
    "\n",
    "def atoi(text):\n",
    "    return int(text) if text.isdigit() else text\n",
    "\n",
    "def natural_keys(text):\n",
    "    return [ atoi(c) for c in re.split(r'(\\d+)', text) ]\n",
    "\n",
    "img_array = []\n",
    "for filename in sorted(glob.glob(\"./simulation/dataR/dataRA/frame/*.png\"), key=natural_keys):\n",
    "    img = cv2.imread(filename)\n",
    "    height, width, layers = img.shape\n",
    "    size = (width, height)\n",
    "    img_array.append(img)\n",
    "\n",
    "name = 'project.mp4'\n",
    "out = cv2.VideoWriter(name, cv2.VideoWriter_fourcc(*'mp4v'), 5.0, size)\n",
    "\n",
    "for i in range(len(img_array)):\n",
    "    out.write(img_array[i])\n",
    "out.release()"
   ]
  },
  {
   "cell_type": "code",
   "execution_count": null,
   "id": "695d81df-8ccf-4515-826e-51b714db3b45",
   "metadata": {},
   "outputs": [],
   "source": [
    "from IPython.display import Video"
   ]
  },
  {
   "cell_type": "code",
   "execution_count": null,
   "id": "db5c82bb-6062-4b10-aa94-c8818d4edfef",
   "metadata": {},
   "outputs": [],
   "source": [
    "Video(\"./project.mp4\")"
   ]
  },
  {
   "cell_type": "code",
   "execution_count": null,
   "id": "1333970d-b192-46a0-b66d-987e0a5822b6",
   "metadata": {},
   "outputs": [],
   "source": []
  },
  {
   "cell_type": "code",
   "execution_count": null,
   "id": "bbc517f6-39a7-4405-a885-fd282ca8f19b",
   "metadata": {},
   "outputs": [],
   "source": [
    "import numpy as np\n",
    "import matplotlib.pyplot as plt\n",
    "from matplotlib.animation import FuncAnimation\n",
    "from IPython.display import HTML\n",
    "\n",
    "fig, ax = plt.subplots()\n",
    "xdata, ydata = [], []\n",
    "ln, = plt.plot([], [], 'ro')\n",
    "\n",
    "def init():\n",
    "    ax.set_xlim(0, 2 * np.pi)\n",
    "    ax.set_ylim(-1, 1)\n",
    "    return ln,\n",
    "\n",
    "def update(frame):\n",
    "    xdata.append(frame)\n",
    "    ydata.append(np.sin(frame))\n",
    "    ln.set_data(xdata, ydata)\n",
    "    return ln,\n",
    "\n",
    "ani = FuncAnimation(fig, update, frames=np.linspace(0, 2 * np.pi, 128),\n",
    "                    init_func=init, blit=True, interval=50)\n",
    "\n",
    "HTML(ani.to_jshtml())\n",
    "# HTML(ani.to_html5_video())  # またはこちら\n"
   ]
  },
  {
   "cell_type": "code",
   "execution_count": null,
   "id": "421b3ca1-46f1-492f-84a3-0f9a0c5d44e4",
   "metadata": {},
   "outputs": [],
   "source": [
    "#coding:utf-8\n",
    "from PIL import Image\n",
    "import matplotlib.pyplot as plt\n",
    "import numpy as np\n",
    "\n",
    "#Jupyterでインライン表示するための宣言\n",
    "%matplotlib inline \n",
    "\n",
    "#画像の読み込み\n",
    "im = Image.open(\"./simulation/dataR/dataRA/frame/1.png\")\n",
    "\n",
    "#画像をarrayに変換\n",
    "im_list = np.asarray(im)\n",
    "#貼り付け\n",
    "plt.imshow(im_list)\n",
    "#表示\n",
    "plt.show()\n"
   ]
  },
  {
   "cell_type": "code",
   "execution_count": null,
   "id": "e7b182c2-5b72-411a-a113-0f5dbc5698a5",
   "metadata": {},
   "outputs": [],
   "source": [
    "import numpy as np\n",
    "import matplotlib.pyplot as plt\n",
    "import matplotlib.animation as animation\n",
    "import glob\n",
    "from PIL import Image\n",
    "import re\n",
    "import matplotlib\n",
    "matplotlib.rcParams['animation.embed_limit'] = 2**128\n",
    "\n",
    "def atoi(text):\n",
    "    return int(text) if text.isdigit() else text\n",
    "\n",
    "def natural_keys(text):\n",
    "    return [ atoi(c) for c in re.split(r'(\\d+)', text) ]\n",
    "\n",
    "fig = plt.figure(figsize=(10,10)) \n",
    "anims = [] #各フレームの図を保存するためのリスト\n",
    "\n",
    "#ims = []\n",
    "#fig = plt.figure()\n",
    "i = 0\n",
    "for filename in sorted(glob.glob(\"./simulation/dataR/dataRA/frame/*.png\"), key=natural_keys):\n",
    "    if i>101:\n",
    "        break\n",
    "    #img = cv2.imread(filename)\n",
    "    img = Image.open(filename)\n",
    "    img = img.resize((img.width//2 , img.height//2 ))\n",
    "    img = np.asarray(img)\n",
    "    plt.axis(\"off\")\n",
    "    img = plt.imshow(np.asarray(img))\n",
    "    anims.append([img])\n",
    "    i+=1\n",
    "\"\"\"\n",
    "for i in range(100):\n",
    "    array = np.linspace(0, i, 10) #0~iを10個に分割\n",
    "    x = np.arange(10) #array([0, 1, 2, 3, 4, 5, 6, 7, 8, 9])\n",
    "    im = plt.plot(x, array)\n",
    "    anims.append(im) #animsに各フレームの図を追加\n",
    "\"\"\"    \n",
    "ani = animation.ArtistAnimation(fig, anims, interval=100)    \n",
    "\n",
    "from IPython.display import HTML\n",
    "HTML(ani.to_jshtml())"
   ]
  },
  {
   "cell_type": "code",
   "execution_count": null,
   "id": "6ca76088-600a-4ae2-bbc2-8344918c896b",
   "metadata": {},
   "outputs": [],
   "source": []
  }
 ],
 "metadata": {
  "kernelspec": {
   "display_name": "Python 3 (ipykernel)",
   "language": "python",
   "name": "python3"
  },
  "language_info": {
   "codemirror_mode": {
    "name": "ipython",
    "version": 3
   },
   "file_extension": ".py",
   "mimetype": "text/x-python",
   "name": "python",
   "nbconvert_exporter": "python",
   "pygments_lexer": "ipython3",
   "version": "3.10.12"
  }
 },
 "nbformat": 4,
 "nbformat_minor": 5
}
