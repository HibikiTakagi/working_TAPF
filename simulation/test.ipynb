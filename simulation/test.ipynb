{
 "cells": [
  {
   "cell_type": "code",
   "execution_count": 1,
   "metadata": {},
   "outputs": [],
   "source": [
    "import torch"
   ]
  },
  {
   "cell_type": "code",
   "execution_count": 2,
   "metadata": {},
   "outputs": [],
   "source": [
    "abst = torch.tensor([15,  8,  7,  3,  7,  6, 14, 23, 14, 15,  8,  8,  5,  4, 12, 17,  2,  3,\n",
    "         7, 29, 13, 14,  6, 26])\n",
    "\n",
    "node = torch.tensor([15,  8,  7,  3,  7,  6, 14, 23, 14, 15,  8,  8,  5,  4, 12, 17,  2,  3,\n",
    "         7, 29, 13, 14,  6, 26])\n",
    "\n",
    "ind = torch.tensor([ 0,  1,  2,  3,  2,  5,  6,  7,  6,  0,  1,  1, 12, 13, 14, 15, 16,  3,\n",
    "         2, 19, 20,  6,  5, 23])"
   ]
  },
  {
   "cell_type": "code",
   "execution_count": 20,
   "metadata": {},
   "outputs": [],
   "source": [
    "def find_indices_tensor_x_graph(abst_tensor, nodes_device):\n",
    "        flat_abst_tensor = abst_tensor.view(-1)\n",
    "        indices = find_indices_tensor(flat_abst_tensor, nodes_device)\n",
    "        return indices.view(abst_tensor.shape)\n",
    "\n",
    "def find_indices_tensor(abst_tensor, nodes_device):\n",
    "    # nodes_deviceの各値の最初のインデックスをマッピングする辞書を作成\n",
    "    index_map = {}\n",
    "    for index, value in enumerate(nodes_device.tolist()):\n",
    "        if value not in index_map:\n",
    "            index_map[value] = index\n",
    "\n",
    "    # abst_tensorの各要素に対して、マッピングされたインデックスを見つける\n",
    "    result_indices = [index_map[val] for val in abst_tensor.tolist()]\n",
    "\n",
    "    # 結果をテンソルとして返す\n",
    "    return torch.tensor(result_indices, device=nodes_device.device)\n",
    "def find_indices(abst_list, nodes_device):\n",
    "    indices = []\n",
    "    nodes_numpy = nodes_device.to('cpu').numpy()\n",
    "    nodes_to_idx = make_node_idx(nodes_numpy)\n",
    "    #nodes_to_idx = {node: idx for idx, node in enumerate(nodes_numpy)} # ここのせいで、最終的に抜き出しのindexが-1になっている注意\n",
    "    #nodes_set = set(nodes_numpy)\n",
    "    indices = [nodes_to_idx[abst] for abst in abst_list]\n",
    "    return indices\n",
    "\n",
    "def make_node_idx(nodes_numpy):\n",
    "    ret_dict = {}\n",
    "    for idx, node in enumerate(nodes_numpy):\n",
    "        if node not in ret_dict:\n",
    "            ret_dict[node] = idx\n",
    "    return ret_dict"
   ]
  },
  {
   "cell_type": "code",
   "execution_count": 23,
   "metadata": {},
   "outputs": [
    {
     "name": "stdout",
     "output_type": "stream",
     "text": [
      "absttensor([15,  8,  7,  3,  7,  6, 14, 23, 14, 15,  8,  8,  5,  4, 12, 17,  2,  3,\n",
      "         7, 29, 13, 14,  6, 26])\n",
      "node:tensor([15,  8,  7,  3,  7,  6, 14, 23, 14, 15,  8,  8,  5,  4, 12, 17,  2,  3,\n",
      "         7, 29, 13, 14,  6, 26])\n",
      "tensor([ 0,  1,  2,  3,  2,  5,  6,  7,  6,  0,  1,  1, 12, 13, 14, 15, 16,  3,\n",
      "         2, 19, 20,  6,  5, 23])\n",
      "tensor([ 0,  1,  2,  3,  2,  5,  6,  7,  6,  0,  1,  1, 12, 13, 14, 15, 16,  3,\n",
      "         2, 19, 20,  6,  5, 23])\n",
      "tensor([True, True, True, True, True, True, True, True, True, True, True, True,\n",
      "        True, True, True, True, True, True, True, True, True, True, True, True])\n",
      "ans:tensor([ 0,  1,  2,  3,  2,  5,  6,  7,  6,  0,  1,  1, 12, 13, 14, 15, 16,  3,\n",
      "         2, 19, 20,  6,  5, 23])\n"
     ]
    }
   ],
   "source": [
    "print(f\"abst{abst}\")\n",
    "print(f\"node:{node}\")\n",
    "print(find_indices_tensor_x_graph(abst, node))\n",
    "print(torch.tensor(find_indices(abst.tolist(), node)))\n",
    "print(find_indices_tensor_x_graph(abst, node)==torch.tensor(find_indices(abst.tolist(), node)))\n",
    "\n",
    "print(f\"ans:{ind}\")"
   ]
  },
  {
   "cell_type": "code",
   "execution_count": 7,
   "metadata": {},
   "outputs": [
    {
     "name": "stdout",
     "output_type": "stream",
     "text": [
      "tensor([ 0,  1,  2,  3,  2,  5,  6,  7,  6,  0,  1,  1, 12, 13, 14, 15, 16,  3,\n",
      "         2, 19, 20,  6,  5, 23])\n"
     ]
    }
   ],
   "source": [
    "print(ind)"
   ]
  },
  {
   "cell_type": "code",
   "execution_count": null,
   "metadata": {},
   "outputs": [],
   "source": []
  }
 ],
 "metadata": {
  "kernelspec": {
   "display_name": "Python 3",
   "language": "python",
   "name": "python3"
  },
  "language_info": {
   "codemirror_mode": {
    "name": "ipython",
    "version": 3
   },
   "file_extension": ".py",
   "mimetype": "text/x-python",
   "name": "python",
   "nbconvert_exporter": "python",
   "pygments_lexer": "ipython3",
   "version": "3.10.12"
  }
 },
 "nbformat": 4,
 "nbformat_minor": 2
}
